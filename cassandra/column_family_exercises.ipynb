{
 "cells": [
  {
   "cell_type": "markdown",
   "metadata": {},
   "source": [
    "# Advanced Data Structures and Storage\n",
    "## Session 20 (Exercises on Column-Family Databases)\n",
    "\n",
    "*Submit your solutions in the Blackboard. I will ask some of you to discuss your solutions in class next session.*"
   ]
  },
  {
   "attachments": {},
   "cell_type": "markdown",
   "metadata": {},
   "source": [
    "## Part 1\n",
    "\n",
    "Fire up a *Cassandra Query Language* (CQL) session as follows:\n",
    "\n",
    "- Go to [DataStax](https://www.datastax.com/dev) and select \"Try free\"\n",
    "- Login (and fill the form, if requested)\n",
    "- Select `Create Database`\n",
    "- As database name and keyspace name, use `twitter`\n",
    "- Choose your favorite provider and your closest region\n",
    "- Wait a minute until the database is up and running\n",
    "- Select the tab `CQL Console` above\n",
    "- Activate the keyspace with the USE command (see session 19's slides).\n",
    "\n",
    "**OR**\n",
    "\n",
    "- Head over to [Github Codespaces](github.com/codespaces)\n",
    "- Run `docker pull cassandra` and `docker run -d cassandra`\n",
    "  - If you re-open the codespace after a while, you may need to run `docker ps -a` and `docker start <container_name>` to start the container again\n",
    "- Run `pip install cassandra-driver`\n",
    "- Make sure the Cassandra demo notebook is running"
   ]
  },
  {
   "attachments": {},
   "cell_type": "markdown",
   "metadata": {},
   "source": [
    "## Part 2\n",
    "\n",
    "We want to model a database that stores [X (formerly Twitter)](https://twitter.com) users and the tweets they post. So far, there are two users and two tweets. In SQL, they would be stored using these tables:\n",
    "\n",
    "*USERS table:*\n",
    "\n",
    "| Author handle *(primary key)* \t| Author name \t| E-mail         \t|\n",
    "|----------------------\t|----------------\t|----------------\t|\n",
    "| @john                \t| John Doe       \t| john@gmail.com \t|\n",
    "| @jane                \t| Jane Doe       \t| jane@gmail.com \t|\n",
    "\n",
    "*TWEETS table:*\n",
    "\n",
    "| Tweet ID *(primary key)* \t| Author handle \t| Body                   \t|\n",
    "|------------------------\t|---------------\t|------------------------\t|\n",
    "| 19000                  \t| @jane         \t| \"My first tweet\"       \t|\n",
    "| 34500                  \t| @jane         \t| \"I got the hang of it\" \t|\n",
    "\n",
    "*If we want to display one tweet, how many tables do we need to traverse?* Justify your answer.\n",
    "\n",
    "Hint: in case you're not familiar with Twitter, have a look at it to make sure you **understand what information is shown in a tweet**."
   ]
  },
  {
   "attachments": {},
   "cell_type": "markdown",
   "metadata": {},
   "source": [
    "## Part 3\n",
    "\n",
    "*How would you model that small database using Cassandra*? Hint: use two tables. Follow the principle that \"columns that are *used* together should be put together\". Using your model, *how many tables do we need to traverse to display one tweet?*\n",
    "\n",
    "You can put a screenshot of an Excel spreadsheet (bonus: [write the tables in Markdown format](https://www.tablesgenerator.com/markdown_tables))."
   ]
  },
  {
   "attachments": {},
   "cell_type": "markdown",
   "metadata": {},
   "source": [
    "## Part 4\n",
    "\n",
    "Create your two tables in Cassandra and fill them up with all available data records from Part 2. Paste your CQL code here."
   ]
  },
  {
   "attachments": {},
   "cell_type": "markdown",
   "metadata": {},
   "source": [
    "## Part 5\n",
    "\n",
    "Use CQL to print the contents of both tables."
   ]
  },
  {
   "attachments": {},
   "cell_type": "markdown",
   "metadata": {},
   "source": [
    "## Part 6\n",
    "\n",
    "Write CQL code that retrieves Jane's tweets.\n",
    "\n",
    "Hint: see the second to last slide from Session 19 (\"Efficient Data Selection\").\n",
    "\n",
    "Bonus: make it work without filtering."
   ]
  },
  {
   "attachments": {},
   "cell_type": "markdown",
   "metadata": {},
   "source": [
    "## Part 7\n",
    "\n",
    "Denormalize the two tables from Part 2 into a single, wider table with five rows. Use `n/a` where necessary.\n",
    "\n",
    "Hint: see the slide *\"Cassandra Denormalization Example\"* from Session 19."
   ]
  }
 ],
 "metadata": {
  "kernelspec": {
   "display_name": "Python 3.9.7 ('base')",
   "language": "python",
   "name": "python3"
  },
  "language_info": {
   "codemirror_mode": {
    "name": "ipython",
    "version": 3
   },
   "file_extension": ".py",
   "mimetype": "text/x-python",
   "name": "python",
   "nbconvert_exporter": "python",
   "pygments_lexer": "ipython3",
   "version": "3.9.7"
  },
  "vscode": {
   "interpreter": {
    "hash": "554939b42c1098b93c4e1fc6d2c88475b2c23298a84305ed23f1aecddaf0788f"
   }
  }
 },
 "nbformat": 4,
 "nbformat_minor": 4
}
